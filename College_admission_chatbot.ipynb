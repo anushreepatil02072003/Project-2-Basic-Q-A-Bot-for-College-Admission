{
 "cells": [
  {
   "cell_type": "code",
   "execution_count": 20,
   "id": "be18d1ae",
   "metadata": {},
   "outputs": [],
   "source": [
    "from nltk.chat.util import Chat, reflections"
   ]
  },
  {
   "cell_type": "code",
   "execution_count": 26,
   "id": "07421481",
   "metadata": {},
   "outputs": [],
   "source": [
    "#Pairs is a list of patterns and responses.\n",
    "pairs = [\n",
    "    [\n",
    "        r\"what are the general admission requirements?\",\n",
    "[\"Most colleges require high school transcripts, standardized test scores like the SAT or ACT, a completed application form, and letters of recommendation. Some may also have specific GPA requirements or essay prompts.\"]    ],\n",
    "     [\n",
    "        r\"What are the application deadlines?\",\n",
    "        [\"Deadlines vary by program and college. Typically, fall deadlines are in November, and spring deadlines are in February. Check the college website for specific dates.\",]\n",
    "    ],\n",
    "    [\n",
    "        r\"I missed the deadline! What can I do?\",\n",
    "        [\"Contact the admissions office directly. Some colleges might offer rolling admissions or consider late applications with justification.\"]\n",
    "    ],\n",
    "    [\n",
    "        r\"What financial aid options are available?\",\n",
    "        [\"Many colleges offer various scholarships, grants, and loans to help students afford their education. Explore the financial aid sections on college websites or consult a financial aid advisor.\",]\n",
    "    ],\n",
    "    [\n",
    "        r\"What are some tips for writing a strong college essay?\",\n",
    "        [\"Be genuine, focused, and showcase your unique voice and aspirations. Proofread carefully and follow the specific prompts from each college\",]\n",
    "    ],\n",
    "    [\n",
    "        r\"hi\",\n",
    "        [\"Hello, welcome to college admission chatbot!\",]\n",
    "    ],\n",
    "    \n",
    "    [\n",
    "        r\"quit\",\n",
    "        [\"Bye for now. See you soon :) \",\"It was nice talking to you. See you soon :)\"]\n",
    "    ],\n",
    "    [\n",
    "        r\"yes\",\n",
    "        [\"👍👍\"]\n",
    "    ],\n",
    "    #error handling\n",
    "    [\n",
    "        r\"(.*)\",\n",
    "        ['I am sorry, can you rephase your question']\n",
    "    ]\n",
    "  \n",
    "]"
   ]
  },
  {
   "cell_type": "code",
   "execution_count": 27,
   "id": "b855f395",
   "metadata": {},
   "outputs": [
    {
     "name": "stdout",
     "output_type": "stream",
     "text": [
      "{'i am': 'you are', 'i was': 'you were', 'i': 'you', \"i'm\": 'you are', \"i'd\": 'you would', \"i've\": 'you have', \"i'll\": 'you will', 'my': 'your', 'you are': 'I am', 'you were': 'I was', \"you've\": 'I have', \"you'll\": 'I will', 'your': 'my', 'yours': 'mine', 'you': 'me', 'me': 'you'}\n"
     ]
    }
   ],
   "source": [
    "print(reflections)"
   ]
  },
  {
   "cell_type": "code",
   "execution_count": 28,
   "id": "d736a34a",
   "metadata": {},
   "outputs": [
    {
     "name": "stdout",
     "output_type": "stream",
     "text": [
      "Hi, I'm chatbot and I like to chat\n",
      "Please type lowercase English language to start a conversation. Type quit to leave \n",
      ">what are the general admission requirements?\n",
      "Most colleges require high school transcripts, standardized test scores like the SAT or ACT, a completed application form, and letters of recommendation. Some may also have specific GPA requirements or essay prompts.\n",
      ">What are the application deadlines?\n",
      "Deadlines vary by program and college. Typically, fall deadlines are in November, and spring deadlines are in February. Check the college website for specific dates.\n",
      ">I missed the deadline! What can I do?\n",
      "Contact the admissions office directly. Some colleges might offer rolling admissions or consider late applications with justification.\n",
      ">What financial aid options are available?\n",
      "Many colleges offer various scholarships, grants, and loans to help students afford their education. Explore the financial aid sections on college websites or consult a financial aid advisor.\n",
      ">What are some tips for writing a strong college essay?\n",
      "Be genuine, focused, and showcase your unique voice and aspirations. Proofread carefully and follow the specific prompts from each college\n",
      ">quit\n",
      "It was nice talking to you. See you soon :)\n"
     ]
    }
   ],
   "source": [
    "#default message at the start of chat\n",
    "print(\"Hi, I'm chatbot and I like to chat\\nPlease type lowercase English language to start a conversation. Type quit to leave \")\n",
    "#Create Chat Bot\n",
    "chat = Chat(pairs, reflections)\n",
    "#Start conversation\n",
    "chat.converse()"
   ]
  },
  {
   "cell_type": "code",
   "execution_count": null,
   "id": "03de71c2",
   "metadata": {},
   "outputs": [],
   "source": [
    "#OUTPUT:\n",
    "# Hi, I'm chatbot and I like to chat\n",
    "# Please type lowercase English language to start a conversation. Type quit to leave \n",
    "# >what are the general admission requirements?\n",
    "# Most colleges require high school transcripts, standardized test scores like the SAT or ACT, a completed application form, and letters of recommendation. Some may also have specific GPA requirements or essay prompts.\n",
    "# >What are the application deadlines?\n",
    "# Deadlines vary by program and college. Typically, fall deadlines are in November, and spring deadlines are in February. Check the college website for specific dates.\n",
    "# >I missed the deadline! What can I do?\n",
    "# Contact the admissions office directly. Some colleges might offer rolling admissions or consider late applications with justification.\n",
    "# >What financial aid options are available?\n",
    "# Many colleges offer various scholarships, grants, and loans to help students afford their education. Explore the financial aid sections on college websites or consult a financial aid advisor.\n",
    "# >What are some tips for writing a strong college essay?\n",
    "# Be genuine, focused, and showcase your unique voice and aspirations. Proofread carefully and follow the specific prompts from each college\n",
    "# >quit\n",
    "# It was nice talking to you. See you soon :)\n",
    "# ​"
   ]
  },
  {
   "cell_type": "code",
   "execution_count": null,
   "id": "7b8eaad2",
   "metadata": {},
   "outputs": [],
   "source": []
  }
 ],
 "metadata": {
  "kernelspec": {
   "display_name": "Python 3 (ipykernel)",
   "language": "python",
   "name": "python3"
  },
  "language_info": {
   "codemirror_mode": {
    "name": "ipython",
    "version": 3
   },
   "file_extension": ".py",
   "mimetype": "text/x-python",
   "name": "python",
   "nbconvert_exporter": "python",
   "pygments_lexer": "ipython3",
   "version": "3.10.10"
  }
 },
 "nbformat": 4,
 "nbformat_minor": 5
}
